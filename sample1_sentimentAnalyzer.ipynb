{
 "cells": [
  {
   "cell_type": "code",
   "execution_count": 71,
   "id": "779558c9-c9a8-46a6-a7b8-97cdc00b5596",
   "metadata": {},
   "outputs": [],
   "source": [
    "import nltk\n",
    "import string\n",
    "from collections import Counter"
   ]
  },
  {
   "cell_type": "code",
   "execution_count": 72,
   "id": "d2b97ddc-8d66-4f59-8e2e-d1501d790118",
   "metadata": {},
   "outputs": [],
   "source": [
    "import matplotlib.pyplot as plt\n",
    "from nltk.corpus import stopwords\n",
    "from nltk.sentiment.vader import SentimentIntensityAnalyzer\n",
    "from nltk.stem import WordNetLemmatizer\n",
    "from nltk.tokenize import word_tokenize"
   ]
  },
  {
   "cell_type": "code",
   "execution_count": 73,
   "id": "33344fe9-fda1-4313-9537-6edd51b28996",
   "metadata": {},
   "outputs": [],
   "source": [
    "with open('Someone Like You.txt', 'r') as f: #the input is a file\n",
    "    text = f.read()"
   ]
  },
  {
   "cell_type": "code",
   "execution_count": 74,
   "id": "4ad24519-a390-462d-a6f2-b695aba6eb90",
   "metadata": {},
   "outputs": [],
   "source": [
    "lower_case = text.lower()\n",
    "cleaned_text = lower_case.translate(str.maketrans('', '', string.punctuation))"
   ]
  },
  {
   "cell_type": "code",
   "execution_count": 75,
   "id": "6c9605c1-0c11-4f2d-88b2-98b69cd05c65",
   "metadata": {},
   "outputs": [],
   "source": [
    "tokenized_words = word_tokenize(cleaned_text, \"english\")"
   ]
  },
  {
   "cell_type": "code",
   "execution_count": 76,
   "id": "f046bc21-64c6-45f0-a017-ae8fda67bec2",
   "metadata": {},
   "outputs": [],
   "source": [
    "final_words = []\n",
    "for word in tokenized_words:\n",
    "    if word not in stopwords.words('english'):\n",
    "        final_words.append(word)"
   ]
  },
  {
   "cell_type": "code",
   "execution_count": 77,
   "id": "937f19d1-4b81-4db0-a25c-0577e8eb1459",
   "metadata": {},
   "outputs": [],
   "source": [
    "lemma_words = []\n",
    "for word in final_words:\n",
    "    word = WordNetLemmatizer().lemmatize(word)\n",
    "    lemma_words.append(word)"
   ]
  },
  {
   "cell_type": "code",
   "execution_count": 98,
   "id": "10e72407-a8a5-4e95-b419-879e748dfa4a",
   "metadata": {},
   "outputs": [
    {
     "name": "stdout",
     "output_type": "stream",
     "text": [
      "['positive', 'positive', 'positive', 'positive', 'positive', 'positive', 'positive', 'negative', 'negative', 'negative', 'negative', 'negative', 'negative', 'negative', 'negative', 'negative', 'negative', 'negative', 'negative']\n",
      "Counter({'negative': 12, 'positive': 7})\n"
     ]
    }
   ],
   "source": [
    "emotion_list = []\n",
    "with open('outputEmotions.csv', 'r') as file:\n",
    "    for line in file:\n",
    "        clear_line = line.replace(\"\\n\", '').replace(\"'\", '').strip()\n",
    "        word, emotion = clear_line.split(',')\n",
    "\n",
    "        if word in lemma_words:\n",
    "            emotion_list.append(emotion)\n",
    "\n",
    "print(emotion_list)\n",
    "w = Counter(emotion_list) #counting positive and negative words' numbers\n",
    "print(w) #display them"
   ]
  },
  {
   "cell_type": "code",
   "execution_count": 111,
   "id": "ac76f94e-180a-4ae4-b6b8-84fd871b152e",
   "metadata": {},
   "outputs": [],
   "source": [
    "final_text = ', '.join([str(word) for word in lemma_words])"
   ]
  },
  {
   "cell_type": "code",
   "execution_count": 112,
   "id": "c4b59075-a8d5-4edd-9d9d-d01d16adb76f",
   "metadata": {},
   "outputs": [
    {
     "name": "stderr",
     "output_type": "stream",
     "text": [
      "[nltk_data] Downloading package vader_lexicon to\n",
      "[nltk_data]     C:\\Users\\mayl7\\AppData\\Roaming\\nltk_data...\n",
      "[nltk_data]   Package vader_lexicon is already up-to-date!\n"
     ]
    },
    {
     "data": {
      "text/plain": [
       "True"
      ]
     },
     "execution_count": 112,
     "metadata": {},
     "output_type": "execute_result"
    }
   ],
   "source": [
    "nltk.download('vader_lexicon')"
   ]
  },
  {
   "cell_type": "code",
   "execution_count": 113,
   "id": "eea2979f-02cc-48ea-b9e7-c8b368c65302",
   "metadata": {},
   "outputs": [],
   "source": [
    "def sentiment_analyse(sentiment_text):\n",
    "    score = SentimentIntensityAnalyzer().polarity_scores(sentiment_text)\n",
    "    print(score)\n",
    "    if score['neg'] > score['pos']:\n",
    "        print(\"Negative Sentiment\")\n",
    "    elif score['neg'] < score['pos']:\n",
    "        print(\"Positive Sentiment\")\n",
    "    else:\n",
    "        print(\"Neutral Sentiment\")"
   ]
  },
  {
   "cell_type": "code",
   "execution_count": 114,
   "id": "301caf94-36ad-4ed9-aa57-22cda289e911",
   "metadata": {},
   "outputs": [
    {
     "name": "stdout",
     "output_type": "stream",
     "text": [
      "{'neg': 0.316, 'neu': 0.482, 'pos': 0.202, 'compound': -0.9648}\n",
      "Negative Sentiment\n"
     ]
    }
   ],
   "source": [
    "sentiment_analyse(final_text) #calculating the scores of the final processed text"
   ]
  },
  {
   "cell_type": "code",
   "execution_count": 115,
   "id": "e0da518c-1691-49c0-8cd0-9bd6ebf23a13",
   "metadata": {},
   "outputs": [
    {
     "data": {
      "image/png": "[encoded data removed]",
      "text/plain": [
       "<Figure size 640x480 with 1 Axes>"
      ]
     },
     "metadata": {},
     "output_type": "display_data"
    }
   ],
   "source": [
    "fig, ax1 = plt.subplots() #using counter generated to create a bar chart\n",
    "ax1.bar(w.keys(), w.values())\n",
    "fig.autofmt_xdate()\n",
    "plt.savefig('graph.png')\n",
    "plt.show()"
   ]
  },
  {
   "cell_type": "code",
   "execution_count": null,
   "id": "dd88fc94-b773-4950-9323-6195ab1a2241",
   "metadata": {},
   "outputs": [],
   "source": []
  },
  {
   "cell_type": "code",
   "execution_count": null,
   "id": "122addca-6b8c-49b9-9811-339de1f01ac2",
   "metadata": {},
   "outputs": [],
   "source": []
  },
  {
   "cell_type": "code",
   "execution_count": null,
   "id": "e95f10cb-9f48-4dea-9685-1044d64b9057",
   "metadata": {},
   "outputs": [],
   "source": []
  }
 ],
 "metadata": {
  "kernelspec": {
   "display_name": "Python 3 (ipykernel)",
   "language": "python",
   "name": "python3"
  },
  "language_info": {
   "codemirror_mode": {
    "name": "ipython",
    "version": 3
   },
   "file_extension": ".py",
   "mimetype": "text/x-python",
   "name": "python",
   "nbconvert_exporter": "python",
   "pygments_lexer": "ipython3",
   "version": "3.11.8"
  }
 },
 "nbformat": 4,
 "nbformat_minor": 5
}
