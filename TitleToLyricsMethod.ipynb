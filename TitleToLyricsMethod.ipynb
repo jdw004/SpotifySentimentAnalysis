{
 "cells": [
  {
   "cell_type": "code",
   "execution_count": 8,
   "id": "39c6a85a",
   "metadata": {},
   "outputs": [
    {
     "name": "stdout",
     "output_type": "stream",
     "text": [
      "Collecting lyricsgenius\n",
      "  Downloading lyricsgenius-3.0.1-py3-none-any.whl (59 kB)\n",
      "                                              0.0/59.4 kB ? eta -:--:--\n",
      "     ------                                   10.2/59.4 kB ? eta -:--:--\n",
      "     -------------------                    30.7/59.4 kB 325.1 kB/s eta 0:00:01\n",
      "     --------------------------             41.0/59.4 kB 326.8 kB/s eta 0:00:01\n",
      "     -------------------------------------- 59.4/59.4 kB 313.2 kB/s eta 0:00:00\n",
      "Requirement already satisfied: beautifulsoup4>=4.6.0 in c:\\users\\isaac\\anaconda3\\lib\\site-packages (from lyricsgenius) (4.12.2)\n",
      "Requirement already satisfied: requests>=2.20.0 in c:\\users\\isaac\\anaconda3\\lib\\site-packages (from lyricsgenius) (2.29.0)\n",
      "Requirement already satisfied: soupsieve>1.2 in c:\\users\\isaac\\anaconda3\\lib\\site-packages (from beautifulsoup4>=4.6.0->lyricsgenius) (2.4)\n",
      "Requirement already satisfied: charset-normalizer<4,>=2 in c:\\users\\isaac\\anaconda3\\lib\\site-packages (from requests>=2.20.0->lyricsgenius) (2.0.4)\n",
      "Requirement already satisfied: idna<4,>=2.5 in c:\\users\\isaac\\anaconda3\\lib\\site-packages (from requests>=2.20.0->lyricsgenius) (3.4)\n",
      "Requirement already satisfied: urllib3<1.27,>=1.21.1 in c:\\users\\isaac\\anaconda3\\lib\\site-packages (from requests>=2.20.0->lyricsgenius) (1.26.16)\n",
      "Requirement already satisfied: certifi>=2017.4.17 in c:\\users\\isaac\\anaconda3\\lib\\site-packages (from requests>=2.20.0->lyricsgenius) (2023.11.17)\n",
      "Installing collected packages: lyricsgenius\n",
      "Successfully installed lyricsgenius-3.0.1\n"
     ]
    }
   ],
   "source": [
    "!pip install lyricsgenius"
   ]
  },
  {
   "cell_type": "code",
   "execution_count": 3,
   "id": "f3f8deed",
   "metadata": {},
   "outputs": [
    {
     "name": "stdout",
     "output_type": "stream",
     "text": [
      "Searching for \"Creep\" by Radiohead...\n",
      "Done.\n",
      "179 ContributorsTranslationsPortuguêsPolskiDeutschEspañolالعربيةРусскийCreep Lyrics\n",
      "When you were here before\n",
      "Couldn't look you in the eye\n",
      "You're just like an angel\n",
      "Your skin makes me cry\n",
      "You float like a feather\n",
      "In a beautiful world\n",
      "\n",
      "I wish I was special\n",
      "You're so fuckin' special\n",
      "\n",
      "But I'm a creep, I'm a weirdo\n",
      "What the hell am I doing here?\n",
      "I don't belong here\n",
      "\n",
      "I don't care if it hurts\n",
      "I wanna have control\n",
      "I want a perfect body\n",
      "I want a perfect soul\n",
      "I want you to notice\n",
      "When I'm not around\n",
      "\n",
      "You're so fuckin' special\n",
      "I wish I was special\n",
      "You might also like\n",
      "But I'm a creep, I'm a weirdo\n",
      "What the hell am I doing here?\n",
      "I don't belong here\n",
      "Oh, oh\n",
      "\n",
      "She's running out the door\n",
      "She's running out\n",
      "She run, run, run, run\n",
      "Run\n",
      "\n",
      "Whatever makes you happy\n",
      "Whatever you want\n",
      "You're so fuckin' special\n",
      "I wish I was special\n",
      "But I'm a creep, I'm a weirdo\n",
      "What the hell am I doing here?\n",
      "I don't belong here\n",
      "I don't belong here277Embed\n"
     ]
    }
   ],
   "source": [
    "import lyricsgenius as lg\n",
    "\n",
    "api_key = '8wCh_XDvpgDsH1PZhstKFSSjS7DfJtXYl6gGfu_3iQb7cQr5OM0LzmdAIDYo8U0H'\n",
    "genius = lg.Genius(api_key, skip_non_songs=True, excluded_terms=[\"(Remix)\", \"(Live)\"], remove_section_headers=True)\n",
    "\n",
    "\n",
    "def lyrics_from_title(song_title, artist):\n",
    "    print(\"hello\")\n",
    "def main():\n",
    "    song = genius.search_song(\"Creep\", \"Radiohead\")\n",
    "    lyrics = song.lyrics\n",
    "\n",
    "if __name__ == \"__main__\":\n",
    "    main()"
   ]
  },
  {
   "cell_type": "code",
   "execution_count": null,
   "id": "2836a26c",
   "metadata": {},
   "outputs": [],
   "source": []
  }
 ],
 "metadata": {
  "kernelspec": {
   "display_name": "Python 3 (ipykernel)",
   "language": "python",
   "name": "python3"
  },
  "language_info": {
   "codemirror_mode": {
    "name": "ipython",
    "version": 3
   },
   "file_extension": ".py",
   "mimetype": "text/x-python",
   "name": "python",
   "nbconvert_exporter": "python",
   "pygments_lexer": "ipython3",
   "version": "3.11.3"
  }
 },
 "nbformat": 4,
 "nbformat_minor": 5
}
